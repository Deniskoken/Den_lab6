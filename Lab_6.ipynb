{
 "cells": [
  {
   "cell_type": "code",
   "execution_count": null,
   "id": "18af49d4-3ceb-40f7-b435-6abb46ef9aeb",
   "metadata": {},
   "outputs": [],
   "source": [
    "#1\n",
    "import math\n",
    "\n",
    "def multiply(numbers):\n",
    "    return math.prod(numbers)\n",
    "numbers = [2, 3, 4, 5]\n",
    "result = multiply(numbers)\n",
    "print(result)\n"
   ]
  },
  {
   "cell_type": "code",
   "execution_count": 3,
   "id": "7fee2c85-a992-48ee-9f85-6c2d9d5d54b9",
   "metadata": {},
   "outputs": [
    {
     "name": "stdin",
     "output_type": "stream",
     "text": [
      "string:  HGvgbJH\n"
     ]
    },
    {
     "name": "stdout",
     "output_type": "stream",
     "text": [
      "Uppercase (4, 3)\n",
      "Lowercase (4, 3)\n"
     ]
    }
   ],
   "source": [
    "#2\n",
    "def count_case(s):\n",
    "    up = sum(1 for char in s if char.isupper())\n",
    "    low = sum(1 for char in s if char.islower())\n",
    "    return up, low\n",
    "\n",
    "text = input(\"string: \")\n",
    "upper = count_case(text)\n",
    "lower = count_case(text)\n",
    "print(\"Uppercase\", upper)\n",
    "print(\"Lowercase\", lower)\n"
   ]
  },
  {
   "cell_type": "code",
   "execution_count": 5,
   "id": "009930dd-2b66-4525-a7f0-f730a316804d",
   "metadata": {},
   "outputs": [
    {
     "name": "stdin",
     "output_type": "stream",
     "text": [
      "string:  kazak\n"
     ]
    },
    {
     "name": "stdout",
     "output_type": "stream",
     "text": [
      "The string is a palindrome.\n"
     ]
    }
   ],
   "source": [
    "#3\n",
    "def is_palindrome(s):\n",
    "    return s == s[::-1]\n",
    "\n",
    "text = input(\"string: \")\n",
    "if is_palindrome(text):\n",
    "    print(\"The string is a palindrome\")\n",
    "else:\n",
    "    print(\"The string is not a palindrome\")\n"
   ]
  },
  {
   "cell_type": "code",
   "execution_count": 7,
   "id": "55f89bbb-3d8b-45c1-bb76-010ff726cf01",
   "metadata": {},
   "outputs": [
    {
     "name": "stdin",
     "output_type": "stream",
     "text": [
      "number:  25100\n",
      "milliseconds:  2123\n"
     ]
    },
    {
     "name": "stdout",
     "output_type": "stream",
     "text": [
      "Square root of 25100 after 2123 milliseconds is 158.42979517754858\n"
     ]
    }
   ],
   "source": [
    "#4\n",
    "import time\n",
    "import math\n",
    "\n",
    "def delayed(number, delay):\n",
    "    time.sleep(delay / 1000) \n",
    "    return math.sqrt(number)\n",
    "\n",
    "num = int(input(\"number: \"))\n",
    "delay = int(input(\"milliseconds: \"))\n",
    "\n",
    "result = delayed(num, delay)\n",
    "print(f\"Square root of {num} after {delay} milliseconds is {result}\")"
   ]
  },
  {
   "cell_type": "code",
   "execution_count": 9,
   "id": "6300835a-c47c-4cad-a7f7-bf294c59d4fd",
   "metadata": {},
   "outputs": [
    {
     "name": "stdin",
     "output_type": "stream",
     "text": [
      " cryt gt7 tv vt\n"
     ]
    },
    {
     "name": "stdout",
     "output_type": "stream",
     "text": [
      "True\n"
     ]
    }
   ],
   "source": [
    "#5\n",
    "def all_true(t):\n",
    "    return all(t)\n",
    "_tuple = tuple(input().split())\n",
    "\n",
    "result = all_true(_tuple)\n",
    "print(result)"
   ]
  },
  {
   "cell_type": "code",
   "execution_count": null,
   "id": "bdfcff93-ce14-4c6c-8f37-dda264f52290",
   "metadata": {},
   "outputs": [],
   "source": []
  },
  {
   "cell_type": "code",
   "execution_count": 19,
   "id": "05609256-0d32-472d-b1d9-242904ec0ade",
   "metadata": {},
   "outputs": [
    {
     "name": "stdin",
     "output_type": "stream",
     "text": [
      "Enter the path:  C:\\Users\n"
     ]
    },
    {
     "name": "stdout",
     "output_type": "stream",
     "text": [
      "Directories: ('C:\\\\Users', ['All Users', 'Default', 'Default User', 'defaultuser100000', 'denis', 'Public', 'Все пользователи'])\n",
      "Files: ('C:\\\\Users', ['All Users', 'Default', 'Default User', 'defaultuser100000', 'denis', 'Public', 'Все пользователи'])\n"
     ]
    }
   ],
   "source": [
    "#1\n",
    "import os\n",
    "\n",
    "def list_contents(path):\n",
    "    return next(os.walk(path))[:2]\n",
    "\n",
    "\n",
    "path = input(\"Enter the path: \")\n",
    "dirs\n",
    "files = list_contents(path)\n",
    "\n",
    "print(\"Directories:\", dirs)\n",
    "print(\"Files:\", files)"
   ]
  },
  {
   "cell_type": "code",
   "execution_count": 23,
   "id": "41f558e2-f469-4125-949e-7b50f8f9b62f",
   "metadata": {},
   "outputs": [
    {
     "name": "stdin",
     "output_type": "stream",
     "text": [
      "Enter the path to check:  C:\\Users\n"
     ]
    },
    {
     "name": "stdout",
     "output_type": "stream",
     "text": [
      "Path exists.\n",
      "Type: Directory\n",
      "Readable: Yes\n",
      "Writable: Yes\n",
      "Executable: Yes\n"
     ]
    }
   ],
   "source": [
    "import os\n",
    "\n",
    "def check_path_access(path):\n",
    "    if os.path.exists(path):\n",
    "        print(\"Path exists.\")\n",
    "        print(\"Type:\", \"File\" if os.path.isfile(path) else \"Directory\")\n",
    "        print(\"Readable:\", \"Yes\" if os.access(path, os.R_OK) else \"No\")\n",
    "        print(\"Writable:\", \"Yes\" if os.access(path, os.W_OK) else \"No\")\n",
    "        print(\"Executable:\", \"Yes\" if os.access(path, os.X_OK) else \"No\")\n",
    "    else:\n",
    "        print(\"Path does not exist.\")\n",
    "\n",
    "path = input(\"Enter the path to check: \")\n",
    "check_path_access(path)\n"
   ]
  },
  {
   "cell_type": "code",
   "execution_count": 33,
   "id": "121c870b-1e84-456c-8bf7-614ec64b53b1",
   "metadata": {},
   "outputs": [
    {
     "name": "stdin",
     "output_type": "stream",
     "text": [
      "Enter the path:  C:\\Users\\denis\\Downloads\\lec1_Sets.pdf\n"
     ]
    },
    {
     "name": "stdout",
     "output_type": "stream",
     "text": [
      "Path exists.\n",
      "Directory: C:\\Users\\denis\\Downloads\n",
      "Filename: lec1_Sets.pdf\n"
     ]
    }
   ],
   "source": [
    "import os\n",
    "\n",
    "def check_path(path):\n",
    "    if os.path.exists(path):\n",
    "        print(\"Path exists.\")\n",
    "        print(\"Directory:\", os.path.dirname(path))\n",
    "        print(\"Filename:\", os.path.basename(path))\n",
    "    else:\n",
    "        print(\"Path does not exist.\")\n",
    "\n",
    "path = input(\"Enter the path: \")\n",
    "check_path(path)\n"
   ]
  },
  {
   "cell_type": "code",
   "execution_count": 39,
   "id": "8646fc4a-4fc8-4528-87df-d2c4b5e475ad",
   "metadata": {},
   "outputs": [
    {
     "name": "stdin",
     "output_type": "stream",
     "text": [
      "Enter the file path:  q\n"
     ]
    },
    {
     "name": "stdout",
     "output_type": "stream",
     "text": [
      "Number of lines: File not found.\n"
     ]
    }
   ],
   "source": [
    "def count_lines(file_path):\n",
    "    try:\n",
    "        with open(file_path, 'r', encoding='utf-8') as file:\n",
    "            return sum(1 for line in file)\n",
    "    except FileNotFoundError:\n",
    "        return \"File not found.\"\n",
    "\n",
    "file_path = input(\"Enter the file path: \")\n",
    "print(\"Number of lines:\", count_lines(file_path))\n"
   ]
  },
  {
   "cell_type": "code",
   "execution_count": 57,
   "id": "bfcc8a80-1f64-425e-902e-7e971c066041",
   "metadata": {},
   "outputs": [
    {
     "name": "stdin",
     "output_type": "stream",
     "text": [
      " file path:  C:\\Users\\denis\\Downloads\\lec1_Sets.pdf\n"
     ]
    },
    {
     "name": "stdout",
     "output_type": "stream",
     "text": [
      "List written to file successfully.\n"
     ]
    }
   ],
   "source": [
    "def write_list_to_file(file_path, data_list):\n",
    "    with open(file_path, 'w', encoding='utf-8') as file:\n",
    "        for item in data_list:\n",
    "            file.write(f\"{item}\\n\")\n",
    "    print(\"List written to file successfully.\")\n",
    "\n",
    "file_path = input(\" file path: \")\n",
    "data_list = [\"Apple\", \"Banana\"]\n",
    "\n",
    "write_list_to_file(file_path, data_list)\n"
   ]
  },
  {
   "cell_type": "code",
   "execution_count": 51,
   "id": "3de1c8d4-56ae-4cc9-a4d4-1d39daa83bfd",
   "metadata": {},
   "outputs": [
    {
     "name": "stdout",
     "output_type": "stream",
     "text": [
      "26 text files created successfully.\n"
     ]
    }
   ],
   "source": [
    "import string\n",
    "\n",
    "def generate_text_files():\n",
    "    for letter in string.ascii_uppercase:\n",
    "        file_name = f\"{letter}.txt\"\n",
    "        with open(file_name, 'w', encoding='utf-8') as file:\n",
    "            file.write(f\"This is {file_name}\\n\")\n",
    "    print(\"26 text files created successfully.\")\n",
    "\n",
    "generate_text_files()\n"
   ]
  },
  {
   "cell_type": "code",
   "execution_count": 83,
   "id": "a86b4565-be2b-4756-94ca-33b3aab07015",
   "metadata": {},
   "outputs": [
    {
     "name": "stdout",
     "output_type": "stream",
     "text": [
      "Error: The file 'source.txt' does not exist.\n"
     ]
    }
   ],
   "source": [
    "# def copy_file(source, destination):\n",
    "#     with open(source, 'r') as src, open(destination, 'w') as dest:\n",
    "#         dest.write(src.read())\n",
    "#     print(f\"Copied: {source} -> {destination}\")\n",
    "\n",
    "# copy_file(\"source.txt\", \"destination.txt\")\n",
    "\n",
    "\n",
    "import os\n",
    "\n",
    "def copy_file(source, destination):\n",
    "    if not os.path.exists(source):\n",
    "        print(f\"Error: The file '{source}' does not exist.\")\n",
    "        return\n",
    "    \n",
    "    with open(source, 'r') as src, open(destination, 'w') as dest:\n",
    "        dest.write(src.read())\n",
    "\n",
    "copy_file(\"source.txt\", \"destination.txt\")\n",
    "\n"
   ]
  },
  {
   "cell_type": "code",
   "execution_count": 65,
   "id": "b3f7283a-9a2f-4f76-a522-8313231d5a94",
   "metadata": {},
   "outputs": [
    {
     "name": "stdout",
     "output_type": "stream",
     "text": [
      "no access\n"
     ]
    }
   ],
   "source": [
    "import os\n",
    "\n",
    "def delete_file(file_path):\n",
    "    if os.path.exists(file_path) and os.access(file_path, os.W_OK):\n",
    "        os.remove(file_path)\n",
    "    else:\n",
    "        print(\"no access\")\n",
    "\n",
    "delete_file(\"lec1_Sets.pdf\")"
   ]
  }
 ],
 "metadata": {
  "kernelspec": {
   "display_name": "Python [conda env:base] *",
   "language": "python",
   "name": "conda-base-py"
  },
  "language_info": {
   "codemirror_mode": {
    "name": "ipython",
    "version": 3
   },
   "file_extension": ".py",
   "mimetype": "text/x-python",
   "name": "python",
   "nbconvert_exporter": "python",
   "pygments_lexer": "ipython3",
   "version": "3.12.7"
  }
 },
 "nbformat": 4,
 "nbformat_minor": 5
}
