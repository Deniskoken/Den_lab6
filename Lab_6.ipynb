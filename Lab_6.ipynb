{
 "cells": [
  {
   "cell_type": "code",
   "execution_count": 87,
   "id": "18af49d4-3ceb-40f7-b435-6abb46ef9aeb",
   "metadata": {},
   "outputs": [
    {
     "name": "stdout",
     "output_type": "stream",
     "text": [
      "120\n"
     ]
    }
   ],
   "source": [
    "#1\n",
    "import math\n",
    "\n",
    "def multiply(numbers):\n",
    "    return math.prod(numbers)\n",
    "numbers = [2, 3, 4, 5]\n",
    "result = multiply(numbers)\n",
    "print(result)\n"
   ]
  },
  {
   "cell_type": "code",
   "execution_count": 101,
   "id": "7fee2c85-a992-48ee-9f85-6c2d9d5d54b9",
   "metadata": {},
   "outputs": [
    {
     "name": "stdin",
     "output_type": "stream",
     "text": [
      "string:  egwe\n"
     ]
    },
    {
     "name": "stdout",
     "output_type": "stream",
     "text": [
      "Upper and lower (0, 4)\n"
     ]
    }
   ],
   "source": [
    "#2\n",
    "def count_case(s):\n",
    "    up = sum(1 for char in s if char.isupper())\n",
    "    low = sum(1 for char in s if char.islower())\n",
    "    return up, low\n",
    "\n",
    "text = input(\"string: \")\n",
    "res = count_case(text)\n",
    "lower = count_case(text)\n",
    "print(\"Upper and lower\", res)\n",
    "\n"
   ]
  },
  {
   "cell_type": "code",
   "execution_count": 105,
   "id": "009930dd-2b66-4525-a7f0-f730a316804d",
   "metadata": {},
   "outputs": [
    {
     "name": "stdin",
     "output_type": "stream",
     "text": [
      "string:  ihhi\n"
     ]
    },
    {
     "name": "stdout",
     "output_type": "stream",
     "text": [
      "Palindrome\n"
     ]
    }
   ],
   "source": [
    "#3\n",
    "def is_palindrome(s):\n",
    "    return s == s[::-1]\n",
    "\n",
    "text = input(\"string: \")\n",
    "if is_palindrome(text):\n",
    "    print(\"Palindrome\")\n",
    "else:\n",
    "    print(\"Not palindrome\")\n"
   ]
  },
  {
   "cell_type": "code",
   "execution_count": 107,
   "id": "55f89bbb-3d8b-45c1-bb76-010ff726cf01",
   "metadata": {},
   "outputs": [
    {
     "name": "stdin",
     "output_type": "stream",
     "text": [
      "number:  49\n",
      "milliseconds:  343\n"
     ]
    },
    {
     "name": "stdout",
     "output_type": "stream",
     "text": [
      "Square root of 49 after 343 milliseconds is 7.0\n"
     ]
    }
   ],
   "source": [
    "#4\n",
    "import time\n",
    "import math\n",
    "\n",
    "def delayed(number, delay):\n",
    "    time.sleep(delay / 1000) \n",
    "    return math.sqrt(number)\n",
    "\n",
    "num = int(input(\"number: \"))\n",
    "delay = int(input(\"milliseconds: \"))\n",
    "\n",
    "result = delayed(num, delay)\n",
    "print(f\"Square root of {num} after {delay} milliseconds is {result}\")"
   ]
  },
  {
   "cell_type": "code",
   "execution_count": 9,
   "id": "6300835a-c47c-4cad-a7f7-bf294c59d4fd",
   "metadata": {},
   "outputs": [
    {
     "name": "stdin",
     "output_type": "stream",
     "text": [
      " cryt gt7 tv vt\n"
     ]
    },
    {
     "name": "stdout",
     "output_type": "stream",
     "text": [
      "True\n"
     ]
    }
   ],
   "source": [
    "#5\n",
    "def all_true(t):\n",
    "    return all(t)\n",
    "_tuple = tuple(input().split())\n",
    "\n",
    "result = all_true(_tuple)\n",
    "print(result)"
   ]
  },
  {
   "cell_type": "code",
   "execution_count": null,
   "id": "bdfcff93-ce14-4c6c-8f37-dda264f52290",
   "metadata": {},
   "outputs": [],
   "source": []
  },
  {
   "cell_type": "code",
   "execution_count": 121,
   "id": "05609256-0d32-472d-b1d9-242904ec0ade",
   "metadata": {},
   "outputs": [
    {
     "name": "stdin",
     "output_type": "stream",
     "text": [
      " C:\\Users\\denis\\Downloads\n"
     ]
    },
    {
     "name": "stdout",
     "output_type": "stream",
     "text": [
      "Directories: ['.ipynb_checkpoints', 'json', 'lab1', 'Rhino_7_SR0 (1)', 'videoclimate_files', 'y=x в кубе_files']\n",
      "Files: ['#SyllabusDiscrete structures.docx', '0 Қорытынды емтихан бағдарламасы (1).docx', '0 Қорытынды емтихан бағдарламасы (2).docx', '0 Қорытынды емтихан бағдарламасы.docx', '0-Option_LA.pdf', '1-(1)-pdf-GENERATION GAP.pdf', '1-nusqa taldauy.pdf', '1. Syllabus overview week 1 Socio-pol Jan 25.pdf', '1. Задание для 1 подтемы (1) (1).pdf', '1. Задание для 1 подтемы (1) (2).pdf', '1. Задание для 1 подтемы (1) (3).pdf', '1. Задание для 1 подтемы (1).pdf', '1. Задание для 1 подтемы (13).pdf', '1. Задание для 1 подтемы (14).pdf', '1. Задание для 1 подтемы (2) (1).pdf', '1. Задание для 1 подтемы (2).pdf', '1. Задание для 1 подтемы (23) (1).pdf', '1. Задание для 1 подтемы (23).pdf', '1. Задание для 1 подтемы (25).pdf', '1. Задание для 1 подтемы (3).pdf', '1. Задание для 1 подтемы (4).pdf', '1. Задание для 1 подтемы (5).pdf', '1. Задание для 1 подтемы (6).pdf', '1. Задание для 1 подтемы (7).pdf', '1. Задание для 1 подтемы (8).pdf', '1. Задание для 1 подтемы.pdf', '1. Урок 10. Задание для 1 подтемы (1).pdf', '1. Урок 11. Задание для подтемы.pdf', '1. Урок 12. Задание для 1 подтемы (1).docx', '1. Урок 13. Задание для 1 подтемы (1).docx', '1. Урок 14. Задание для 1 подтемы (1).pdf', '1.cpp', '10.cpp', '1000 СҰРАҚ-ЖАУАП (ҚАЗАҚСТАН ТАРИХЫ).pdf', '11 семинар Доив Лаура.pptx', '11 ТЖБ  3 токсан 1,2 нуска (1).docx', '11.cpp', '12.cpp', '13.cpp', '14.cpp', '1473359498_warcraft-3-frozen-throne (1).torrent', '1473359498_warcraft-3-frozen-throne.torrent', '15.cpp', '16.cpp', '1625684999_14-kartinkin-com-p-khaker-oboi-krasivie-17.jpg', '1625685034_41-kartinkin-com-p-khaker-oboi-krasivie-47 (1).png', '1625685034_41-kartinkin-com-p-khaker-oboi-krasivie-47.png', '17.cpp', '18.cpp', '19.cpp', '2-nusqa taldauy.pdf', '2-тоқсан 1-БЖБ (1).docx', '2. Bibliographies and literature search.pdf', '2. Lesson 12. Glossary.pdf', '2. Lesson 15. Glossary.pdf', '2. Глоссарий к уроку 1.pdf', '2. Задание для 2 подтемы (1) (1).pdf', '2. Задание для 2 подтемы (1) (2).pdf', '2. Задание для 2 подтемы (1) (3).pdf', '2. Задание для 2 подтемы (1) (4).pdf', '2. Задание для 2 подтемы (1).pdf', '2. Задание для 2 подтемы (13).pdf', '2. Задание для 2 подтемы (2) (1).pdf', '2. Задание для 2 подтемы (2).pdf', '2. Задание для 2 подтемы (20) (1).pdf', '2. Задание для 2 подтемы (20).pdf', '2. Задание для 2 подтемы (22).pdf', '2. Задание для 2 подтемы (6) (1).pdf', '2. Задание для 2 подтемы (6).pdf', '2. Задание для 2 подтемы (7) (1).pdf', '2. Задание для 2 подтемы (7).pdf', '2. Задание для 2 подтемы.pdf', '2. Общее домашнее задание к уроку 1 (1).pdf', '2. Общее домашнее задание к уроку 1 (2).pdf', '2. Общее домашнее задание к уроку 1 (3).pdf', '2. Общее домашнее задание к уроку 1 (4).pdf', '2. Общее домашнее задание к уроку 1 (5).pdf', '2. Общее домашнее задание к уроку 1.pdf', '2. Урок 10. Задание для 2 подтемы (1).pdf', '2. Урок 12. Задание для 2 подтемы (1).docx', '2. Урок 13. Задание для 2 подтемы (1).docx', '2. Урок 14. Задание для 2 подтемы (1).pdf', '2.cpp', '20.cpp', '2020_referat_6842314.doc', '2023_Countries by Population.csv', '2024-02-13_19-09-34.png', '21.cpp', '22.cpp', '23.cpp', '24.05.pdf', '24.cpp', '25.cpp', '26,02 (1).pptx', '26,02.pptx', '26.cpp', '27.05.24.pdf', '2951.avif', '2pZy.gif', '2_5341632044143223624.pdf', '2_5460833346705695218.pdf', '3-nusqa taldauy.pdf', '3. Glossary and additional materials for the lesson 1 (1).pdf', '3. Glossary and additional materials for the lesson 1.pdf', '3. Glossary for the lesson 2 (4).pdf', '3. Glossary for the lesson 3.pdf', '3. Glossary for the lesson 5.pdf', '3. Glossary for the lesson 6 (2).pdf', '3. Glossary for the lesson 7.pdf', '3. Glossary for the lesson 9.pdf', '3. Lesson 10. Glossary (3).pdf', '3. Lesson 11. Glossary.pdf', '3. Lesson 13. Glossary.pdf', '3. Lesson 16. Glossary (1).pdf', '3. Lesson 17. Glossary.pdf', '3. Lesson 18. Glossary (1).pdf', '3. Lesson 19. Glossary.pdf', '3. Lesson 20. Glossary.pdf', '3. Lesson 21. Glossary.pdf', '3. Lesson 22. Glossary.pdf', '3. Lesson 23. Glossary (2).pdf', '3. Lesson 24. Glossary.pdf', '3. Lesson 25. Glossary.pdf', '3. Measures of income inequality.pdf', '3. Social stratification and poverty.pdf', '3. Глоссарий + Дополнительный материал к уроку 3.pdf', '3. Глоссарий к уроку 4 (1).pdf', '3. Глоссарий к уроку 5.pdf', '3. Глоссарий к уроку 6 (2).pdf', '3. Глоссарий к уроку 7 (1).pdf', '3. Задание для 3 подтемы (1).pdf', '3. Задание для 3 подтемы (2).pdf', '3. Задание для 3 подтемы (3).pdf', '3. Задание для 3 подтемы.pdf', '3. Урок 11. Общее домашнее задание.pdf', '3. Урок 13. Глоссарий (1).docx', '3.cpp', '3071 (1).pdf', '31RingInfinity.fbx', '38344.pptx.ppt', '3klb.gif', '3_Collins_Reading_for_IELTS_Book.pdf.pdf', '4-nusqa taldauy zhazba (1).pdf', '4-nusqa taldauy zhazba.pdf', '4-тоқ. қаз тіл 8-сын БЖБ.docx', '4. Domestic violence and child abuse - new terminology.pdf', '4. Lesson 14. Glossary.pdf', '4. Глоссарий + Дополнительные материалы к уроку 1.pdf', '4. Глоссарий + Дополнительный материал к уроку 2.pdf', '4. Глоссарий к уроку 5.pdf', '4. Общее домашнее задание к уроку 10.pdf', '4. Общее домашнее задание к уроку 3 (1).pdf', '4. Общее домашнее задание к уроку 3.pdf', '4. Общее домашнее задание к уроку 4 (1).pdf', '4. Общее домашнее задание к уроку 4.pdf', '4. Общее домашнее задание к уроку 5.pdf', '4. Общее домашнее задание к уроку 6 (1).pdf', '4. Общее домашнее задание к уроку 6 (2).pdf', '4. Общее домашнее задание к уроку 7 (1).pdf', '4. Общее домашнее задание к уроку 8 (1).pdf', '4. Общее домашнее задание к уроку 9.pdf', '4. Урок 12. Общее домашнее задание.docx', '4. Урок 13. Общее домашнее задание (1).docx', '4. Урок 14. Общее домашнее задание (1).pdf', '4.cpp', '40 контекст! 200 есеп.pdf', '4Y5A4519.CR3', '5 тақырып .docx', '5-НҰСҚА zhazba.pdf', '5. Regimes - knowledge seminar.pptx', '5. Общее домашнее задание к уроку 1.pdf', '5. Общее домашнее задание к уроку 2 (1).pdf', '5. Общее домашнее задание к уроку 2.pdf', '5. Общее домашнее задание к уроку 5.pdf', '5.cpp', '5210902912375578727.jpg', '5210902912375578729 (1).jpg', '5210902912375578729.jpg', '5222225687413385833.jpg', '5467412399540789557.jpg', '6-nusqa taldauy.pdf', '6. Liberal democracy - knowledge seminar.pptx', '6.cpp', '6e7d3fa4-dbff-4f06-a777-d22a24a03852.pdf', '6KTo.gif', '7-Collins_Listening_for_IELTS_Book.pdf.pdf', '7-нұсқа taldauy.pdf', '7. Power relations between the state and its citizens.pptx', '7.cpp', '8 БЖБ қазақ тілі.doc', '8 БЖБ әдебиет 4-тоқсан.doc', '8 БЖБ әдебиет.doc', '8 в сыны БЖБ -3 тоқсан.docx', '8 В сынып ТЖБ 3 тоқсан.docx', '8-БЖБ№2 3-тоқсан.docx', '8-сынып, қазақ тілі ТЖБ соңғы.docx', '8.cpp', '80038 (1).pdf', '80038.pdf', '80xE.gif', '87784-Climate Change PowerPoint.pptx', '8тіл ТЖБ 2т (1).doc', '8тіл ТЖБ 2т.doc', '8әд ТЖБ 2т (1).doc', '8әд ТЖБ 2т.doc', '9.cpp', 'A2_work.mp3', 'Abuev_Bilmedim_zhүregiңde_endi_seniң_құlyp_tұrma.mp3', 'Addressing-Flooding-in-Kazakhstan-2024-Challenges-and-Solutions.pptx', 'ADEKE_SQ_NIGHT_Kөzdiң_zhauyn_alasyң_zhauratasyң.mp3', 'adister.pptx', 'Aemelia · SlidesCarnival.pptx', 'aimp_3_id3793868ids1s.exe', 'aimp_4.70.2254.exe', 'algebra-studies-math-11th-grade (1).pptx', 'algebra-studies-math-11th-grade [Автосохраненный].pptx', 'algebra-studies-math-11th-grade.pptx', 'alisher-bayniyazov-hayrana-mp3.mp3', 'Amr Diab - Osad 3eny (Arabi - Slow).mp3', 'amZ.gif', 'Anaconda3-2024.10-1-Windows-x86_64.exe', 'Analytical Chemistry by Slidesgo.pptx', 'Analyze (анализировать) We constantly analyze and improve our software to enhance security. approach (подход) This approach did not ensure cost-effective purchasing. area (зона) Another area that cannot be negl-3.pdf', 'API_SH.XPD.CHEX.GD.ZS_DS2_en_csv_v2_6301197.zip', 'API_SP.DYN.CBRT.IN_DS2_en_csv_v2_6301675.zip', 'Approved Syllabus Linear algebra for Engineers 2023-2024.pdf', 'Approved_Syllabus_Linear_Algebra_AZ_F24 (1).pdf', 'Approved_Syllabus_Linear_Algebra_AZ_F24.pdf', 'APznzaa8CQireRCsP-C39uF6RvVJSHMtqrg6Pk3WpXsOBOmIq0q1TpdnUTfpTQ0bOPnRcp0wOUQKp8SuBXndnB5YznqQ4Q12y_OZBb0OW4n8-GX8k9qL3bGI1Sk8ffvQT3Vcd45Ic95ve_4HRTwueiwcPmpxxvCZ-k6Z93KWN_XlHm7g4HC7J-PZrJUpaVNG6kfXfVDZ762UtlGubT_2xS.pdf', 'APznzabXo_DT_Gr1NcIskcYBabsWlwoKct_OVPzTvcqPf5v-kMb7UbwV2h67kxbL4VHUtzRB3hHxS_PUjdahEX-gv4smTYlhnTYmQcg6H9ynmHhFal9qE227jBscnvHLuMVesLxxgZ6jfVV1vJ4AkNVBf5vSRFAVvQTDsqoSkwPPPGdUwtITi5g-uXE47co0_QjCPXJ4UKqMheO8sGl9BF.pdf', 'APznzaY1CTT2RCaAyKniinlh2OYqWWgVFaM_UiAPGQ6KxEYUzP7O7f0pjbUCst7TpcGfx5v0lykGkrxaB395ydkg7gGN1NAKLrAk61XO_-WCRhOmwPGLubgkZmFtXARGYIzrpg_uCni3H9TqTg7-iV5FK1elK-CcIl-wvbpx-fkXOyiMCxG3me5LOpCsAOu00x7lbYDCAhorcshvgq (1).pdf', 'APznzaY1CTT2RCaAyKniinlh2OYqWWgVFaM_UiAPGQ6KxEYUzP7O7f0pjbUCst7TpcGfx5v0lykGkrxaB395ydkg7gGN1NAKLrAk61XO_-WCRhOmwPGLubgkZmFtXARGYIzrpg_uCni3H9TqTg7-iV5FK1elK-CcIl-wvbpx-fkXOyiMCxG3me5LOpCsAOu00x7lbYDCAhorcshvgq (2).pdf', 'APznzaY1CTT2RCaAyKniinlh2OYqWWgVFaM_UiAPGQ6KxEYUzP7O7f0pjbUCst7TpcGfx5v0lykGkrxaB395ydkg7gGN1NAKLrAk61XO_-WCRhOmwPGLubgkZmFtXARGYIzrpg_uCni3H9TqTg7-iV5FK1elK-CcIl-wvbpx-fkXOyiMCxG3me5LOpCsAOu00x7lbYDCAhorcshvgq9W5-.pdf', 'APznzaZkh6D29WQiw52Bl0LZH2nuqaa3qa9xPFC1Khh0_szB4AIxrKUWcC_gGmecmoZjesu7sxgOy4cbIHJxyi_Hft3Rr6g-jgS4YO-YcCDSGTbmAHvzeo_nhaGWh74J8ZmX2qfvIpWfTGVffdWUbbtFpgb_40ipunfuTJQdDXKMrZ_UOLW0c4G2N3mCfnuH__Fz5XqCi8iVZtuQwqMV4y.pdf', 'archive (1).zip', 'archive (2).zip', 'archive (3).zip', 'archive (4).zip', 'archive (5).zip', 'archive (6).zip', 'archive (7).zip', 'archive (8).zip', 'archive.zip', 'audio 3.zip', 'Background.png', 'ban.avif', 'ban.jpg', 'Banquo · SlidesCarnival (1).pptx', 'Banquo · SlidesCarnival.pptx', 'Basic Accounting Principles Workshop by Slidesgo.pptx', 'baxadir-razimbetov-suliwdi-saginip_(muzzonas.ru).mp3', 'belyi-fon-bez-nichego-60.webp', 'Biological Psychiatry Meeting by Slidesgo.pptx', 'blender-3-6-5.msi', 'Blue White and Black Geometric Mathematics Lesson Math Creative Presentation · SlidesCarnival (1).pptx', 'Blue White and Black Geometric Mathematics Lesson Math Creative Presentation · SlidesCarnival (2).pptx', 'Blue White and Black Geometric Mathematics Lesson Math Creative Presentation · SlidesCarnival (3).pptx', 'Blue White and Black Geometric Mathematics Lesson Math Creative Presentation · SlidesCarnival.pptx', 'BlueStacksInstaller_4.250.0.1070_native_244bb2cfc34b379907e34b6fecccddbf_UFVCRyBNb2JpbGU=.exe', 'BlueStacksInstaller_4.260.0.1032_native_964c42d3c2e17d32b6cf1e9e7c598a3f_UFVCRyBNb2JpbGU= (1).exe', 'BlueStacksInstaller_4.260.0.1032_native_964c42d3c2e17d32b6cf1e9e7c598a3f_UFVCRyBNb2JpbGU=.exe', 'C14T1S1.mp3', 'C14T1S2.mp3', 'C14T1S3.mp3', 'C14T1S4.mp3', 'C14T2S1.mp3', 'C14T2S2.mp3', 'C14T2S3 (1).mp3', 'C14T2S3 (2).mp3', 'C14T2S3 (3).mp3', 'C14T2S3.mp3', 'C14T2S4 (1).mp3', 'C14T2S4 (2).mp3', 'C14T2S4 (3).mp3', 'C14T2S4.mp3', 'C14T3S1 (1).mp3', 'C14T3S1 (2).mp3', 'C14T3S1 (3).mp3', 'C14T3S1.mp3', 'C14T3S2.mp3', 'C14T3S3.mp3', 'C14T3S4 (1).mp3', 'C14T3S4 (2).mp3', 'C14T3S4 (3).mp3', 'C14T3S4 (4).mp3', 'C14T3S4.mp3', 'C14T4S1 (1).mp3', 'C14T4S1.mp3', 'C14T4S2 (1).mp3', 'C14T4S2.mp3', 'C14T4S3 (1).mp3', 'C14T4S3.mp3', 'C14T4S4 (1).mp3', 'C14T4S4 (2).mp3', 'C14T4S4.mp3', 'Calculus-1_final exam sample (1).pdf', 'Calculus-1_final exam sample.pdf', 'Calculus-2_Academic Policy_2024-2025.pdf', 'Cambridge-IELTS-16-Academic-10-30 (1) (4).pdf', 'Cambridge-IELTS-16-Academic-10-30 (1) hhh.pdf', 'Capital Punishment Thesis Defense for World Day Against the Death Penalty by Slidesgo.pptx', 'Causes of Flooding by Slidesgo.pptx', 'Christmas Presents _ by Slidesgo.pptx', 'ChromeSetup.exe', 'Civil Rights Movement - Social Studies - 12th Grade by Slidesgo.pptx', 'Civil-Society-in-Post-Communist-Europe.pptx', 'Counter-Strike 1.6.exe', 'Coursera certificate (1).pdf', 'Coursera certificate.pdf', 'DALL·E 2024-10-12 14.48.49 - A creative presentation slide showcasing the impacts of flooding in Kazakhstan. The slide has a clean and modern design with a light blue background s.webp', \"DALL·E 2024-10-12 16.04.02 - A dark blue PowerPoint slide with a clean, professional design. The title reads 'Proposed Solutions for Flooding in Kazakhstan and Beyond' in bold whi.webp\", \"DALL·E 2024-10-12 17.35.27 - A presentation slide titled 'Lessons from Other Countries in Flood Management' focusing on Japan, the Netherlands, and Bangladesh. The slide has a cle.webp\", \"DALL·E 2024-10-12 17.35.46 - A presentation slide titled 'Lessons from Other Countries in Flood Management' focusing on Japan, the Netherlands, and Bangladesh. The slide has a cle.webp\", 'DALL·E 2025-02-20 18.30.15 - An old Soviet-era psychiatric hospital with a dark and eerie atmosphere. The building looks aged, with iron bars on the windows and a gloomy, oppressi.webp', 'DALL·E 2025-02-20 19.13.10 - A conceptual and symbolic representation of historical psychiatric hospital treatments. Three symbolic elements_ _1. A shadowy figure with a clouded m.webp', \"DALL·E 2025-02-22 22.54.24 - A vintage newspaper or magazine page featuring an article titled 'The Decline of the Soviet Psychiatric System.' The layout includes bold headlines, s.webp\", \"DALL·E 2025-02-22 22.54.29 - A vintage newspaper or magazine page featuring an article titled 'The Decline of the Soviet Psychiatric System.' The layout includes bold headlines, s.webp\", \"DALL·E 2025-02-22 23.01.40 - A vintage Soviet-era newspaper or magazine page featuring an article titled 'The Decline of the Soviet Psychiatric System.' The layout includes bold h.webp\", 'Data Science Project Proposal XL by Slidesgo.pptx', 'Dean Martin - Let It Snow! Let It Snow! Let It Snow! (OST Плохой Санта).mp3', 'Debate, копия.pdf', 'den (1).pptx', 'den.pptx', 'Denis kokennin baneri (1).pptx', 'Denis kokennin baneri.pptx', 'Denis kokennini baneri.pptx', 'Denis_LAB2 ICT.pptx', 'describing-words-practice_46981.docx', 'desktop.ini', 'Dictionary 1 lesson.docx', 'DOC-20240208-WA0005. (1).pptx', 'DOC-20240208-WA0005. (2).pptx', 'DOC-20240208-WA0005..pptx', 'DOC-20240208-WA0016..pptx', 'DOC-20240216-WA0012. (1).pptx', 'DOC-20240216-WA0012. (2).pptx', 'DOC-20240216-WA0012..pptx', 'DOC-20241001-WA0021. (1).pptx', 'DOC-20241001-WA0021. (2).pptx', 'DOC-20241001-WA0021. (3).pptx', 'DOC-20241001-WA0021..pptx', 'dokumen.tips_name-class-english-file-progress-test-files-15-file-intermediate-photocopiable.pdf', 'done.pptx', 'EF Level Tests.pdf', 'EN Addition by Slidesgo.pptx', 'ENGLISH (1).pptx', 'English Language Grammar Rules _ by Slidesgo.pptx', 'English.pptx', 'English_Grammar_in_Use_Intermediate_2019_5th_Ed.pdf', 'Examination instruction 2024-2025.docx', 'Excel Laboratory work.docx', 'Excel work students.xlsx', 'FA  T IV   Grade 8 (1).docx', 'FA  T IV   Grade 8.docx', 'Final_Exam_on_Linear_Algebra_0_variant.pdf', 'Financial data.xlsx', 'FirstLesson (1) (1).ipynb', 'FirstLesson (1).ipynb', 'Flood Contingency Plan Project Proposal by Slidesgo.pptx', 'Flooding-Disaster-Response.pptx', 'Flooding-in-Kazakhstan-2024-Causes-Impacts-and-Solutions (1).pptx', 'Flooding-in-Kazakhstan-2024-Causes-Impacts-and-Solutions.pptx', 'Flooding-in-Kazakhstan-Challenges-and-Solutions-in-2024 (1).pptx', 'Flooding-in-Kazakhstan-Challenges-and-Solutions-in-2024 (2).pptx', 'Flooding-in-Kazakhstan-Challenges-and-Solutions-in-2024.pptx', 'g0Da.gif', 'gamedownload_i18n_900205157_SpecialPackage_Taiwan_36 (1).exe', 'gamedownload_i18n_900205157_SpecialPackage_Taiwan_36.exe', 'Geometry Lesson - Math - 9th Grade by Slidesgo.pptx', 'global_warming.ppt', 'grade 8 SA term 4 — копия.docx', 'Grand_Theft_Auto_Vice_City.torrent', 'GTA-VC-v1.09 (1).apk', 'GTA-VC-v1.09.apk', 'Hackathon_task_1.ipynb', 'henry moore + nutmeg reading answers (1).pdf', 'henry moore + nutmeg reading answers.pdf', 'Horror Academia Aesthetics School Center XL by Slidesgo.pptx', 'ideaIC-2024.2.2.exe', 'ideaIU-2024.2.2.exe', 'IELTS 14 (1).pdf', 'IELTS 14 (2).pdf', 'IELTS 14 (3).pdf', 'IELTS 14 (4).pdf', 'IELTS 14.pdf', 'IELTS Preparation and Practice R&W (1).pdf', 'IELTS Preparation and Practice R&W.pdf', 'IELTS_book_-_reading_and_writing.pdf', 'IMG_4277.MP4', 'InShot_20220803_132757348.jpg', 'InstallationLog.txt', 'installer (1).exe', 'installer.exe', 'Instructions and assessment criteria SIS presentation (4).docx', 'International Health & Wellness Exhibition Project Proposal by Slidesgo.pptx', 'Jail Backgrounds for Marketing by Slidesgo.pptx', 'Jail vs Prison Comparison Infographics by Slidesgo.pptx', 'Jailbreak! Minitheme by Slidesgo.pptx', 'jap.jpg', 'Kitayskiy_Antidemidovich_-_3_chast.pdf', 'KwzL.gif', 'lab10.zip', 'lab4.zip', 'lab5.zip', 'lab6 (1).zip', 'lab6 powerbi (1).pbix', 'lab6 powerbi (2).pbix', 'lab6 powerbi.pbix', 'lab6.zip', 'lab7.zip', 'lab8.zip', 'lab9.zip', 'lab_6_dn (1).pbix', 'lab_6_dn.pbix', 'lec1_Sets.pdf', 'lec2_Relations and Functions.pdf', 'Lecture 2_transformed.pdf', 'Lecture 3.pdf', 'Lecture 4.pdf', 'Lesson 7 Matching Headings HW.pdf', 'Linear_algebra_for_engineers_Sautbekova_autumn24-25.pdf', 'Luxion KeyShot 10.0.198 (1).7z', 'Luxion KeyShot 10.0.198 (2).7z', 'Luxion KeyShot 10.0.198 (3).7z', 'Many Stars Consulting Toolkit Infographics by Slidesgo.pptx', 'Mobile learning is education via the internet or network using mobile devices, such a s tablets and smartphones to obtain learning materials through mobile apps. It is flexible, allowing students .pdf', 'msys2-x86_64-20240727.exe', 'M_Syllabus_academic_writing by Kassymova GK.doc', 'Natural Disasters_ Flood by Slidesgo.pptx', 'NCHS_-_Leading_Causes_of_Death__United_States.csv', 'Net.jpg', 'Nutmeg.pdf', 'page1.pptx', 'Past_tences.docx', 'PayCheck.pdf', 'pedegogika.doc', 'PHOTO-2022-12-15-14-46-36 (1).jpg', 'PHOTO-2022-12-15-14-46-36.jpg', 'PHOTO-2022-12-15-14-46-54.jpg', 'PHOTO-2022-12-15-14-47-11.jpg', 'PHOTO-2022-12-15-14-47-38 (1).jpg', 'PHOTO-2022-12-15-14-47-38 (2).jpg', 'PHOTO-2022-12-15-14-47-38.jpg', 'PHOTO-2022-12-15-14-47-40.jpg', 'photo1708532519.jpeg', 'Polar Bears Minitheme by Slidesgo.pptx', 'PP variant 1_Sagymbekova.docx', 'PP variant 2_Sagymbekova.docx', 'PP variant 3_Sagymbekova.docx', 'pubg-mobile-1-1-0 (1).apk', 'pycharm-community-2023.1.2.exe', 'pycharm-professional-2023.1 (1).exe', 'pycharm-professional-2023.1.exe', 'python-3-11-3.zip', 'python-3.7.2.exe', 'razbitoe steklo.jpg', 'reading 3.zip', 'Rhino_7_SR0 (1).7z', 'Rhino_7_SR0 (2).7z', 'Rhino_7_SR0 (3).7z', 'Rhino_7_SR0 (4).7z', 'Rhino_7_SR0 (5).7z', 'Rhino_7_SR0 (6).7z', 'Rhino_7_SR0 (7).7z', 'Rhino_7_SR0 (8).7z', 'Rhino_7_SR0.7z', 'Réchauffement climatique vs changement climatique by Slidesgo [Автосохраненный].pptx', 'Réchauffement climatique vs changement climatique by Slidesgo.pptx', 'S A T.pdf', 'Sautbekova_Calculus1Final_0_variant.pdf', 'School Presentation.zip', 'Science Subject for Elementary - 4th Grade_ Changes in Matter and Energy by Slidesgo.pptx', 'Science Subject for Middle School - 8th Grade_ Waves and Sound by Slidesgo.pptx', 'sem-1 (Operations on sets) (3).pdf', 'sem-1 (Operations on sets).pdf', 'sem-2 (Relations and functions) (1).pdf', 'sem-2 (Relations and functions) (2).pdf', 'sem-2 (Relations and functions).pdf', 'sem-6 (Elements of Combinatorics).pdf', 'Seminar lesson 1 (1).pdf', 'Seminar lesson 1.pdf', 'Seminar lesson 2.pdf', 'Seminar lesson 3.pdf', 'Seminar lesson 5.pdf', 'Seminar lesson 6.pdf', 'Silbo.pdf', 'SIS presentation advice for students (1).pdf', 'Social Studies Subject for High School - 12th Grade. Civil Rights and Liberties by Slidesgo.pptx', 'statistics-and-probability-math-7th-grade (1).pptx', 'statistics-and-probability-math-7th-grade.pptx', 'SteamSetup.exe', 'superPresentation.pptx', 'Sát sapar! (1).pdf', 'Sát sapar! (2).pdf', 'Sát sapar!.pdf', 'Sát sapar!.png', 'Teaching Methods Thesis by Slidesgo.pptx', 'teaching-methods-project-based-learning — ярлык.lnk', 'teaching-methods-project-based-learning.pptx', 'TechSmith Camtasia Studio 9.0.5 Build 2021 (1).rar', 'TechSmith Camtasia Studio 9.0.5 Build 2021.rar', 'teleova tarix.docx', 'TestVerbal-Vocabulary-List-for-GMAT-GRE-SAT-ACT-SSAT (1).pdf', 'TestVerbal-Vocabulary-List-for-GMAT-GRE-SAT-ACT-SSAT.pdf', 'TEXT 1 van Voren and Roache_2018_Psikhushka.pdf', 'TEXT 2 Howard_2012_Civ Soc in post-Comm Europe.pdf', 'thank-you-for-your-attention-gif-9.gif', 'The-Political-Abuse-of-Psychiatry-Psikhushka-in-the-USSR-and-Russia (1).pptx', 'The-Political-Abuse-of-Psychiatry-Psikhushka-in-the-USSR-and-Russia.pptx', 'Thomas_Calculus (1).pdf', 'Thomas_Calculus (2).pdf', 'Thomas_Calculus (3).pdf', 'Thomas_Calculus (4).pdf', 'Thomas_Calculus.pdf', 'Tombstones Minitheme by Slidesgo.pptx', 'Translate.docx', 'tubemate-youtube-downloader-2-4-27.apk', 'Tursynbaev_Denis_HW1.pdf', 'umasking skin-1-2.pdf', 'Unlock 3_Listening&Speaking (SB).pdf', 'Unlock_2ed_3_Reading_and_Writing_SB (better quality).pdf', 'Untitled12.ipynb', 'Var 1.xlsx', 'VAR1YENLIKATIMBEKOVA.xlsx', 'VIDEO-2022-12-15-14-48-46.mp4', 'VIDEO-2022-12-15-14-49-12.mp4', 'VIDEO-2022-12-15-14-50-16.mp4', 'video1320401752.mp4', 'video1667564353 (1).mp4', 'video1667564353 (2).mp4', 'video1667564353 (3).mp4', 'video1667564353 (4).mp4', 'video1667564353 (5).mp4', 'video1667564353.mp4', 'video2587543023.mp4', 'videoclimate.html', 'VSCodeUserSetup-x64-1.84.2.exe', 'war3 full (4).rar', 'Warcraft-3 (1).torrent', 'Warcraft-3 (2).torrent', 'Warcraft-3-by-Igruha.torrent', 'Warcraft-3.torrent', 'weird-jobs-reading-conversation-topics-dialogs-debating-argumentation_116016.docx', 'WhatsApp Audio 2021-09-22 at 17.27.35.mpeg', 'WhatsApp Audio 2021-11-11 at 19.08.02.mpeg', 'WhatsApp Audio 2021-11-11 at 19.08.13.mpeg', 'WhatsApp Audio 2021-11-11 at 19.08.30.mpeg', 'WhatsApp Audio 2021-11-11 at 19.08.42.mpeg', 'WhatsApp Audio 2021-11-11 at 19.09.28.mpeg', 'WhatsApp Audio 2021-11-11 at 19.09.45.mpeg', 'WhatsApp Audio 2021-11-11 at 19.09.54.mpeg', 'WhatsApp Audio 2021-11-11 at 19.10.37.mpeg', 'WhatsApp Audio 2021-11-11 at 19.10.49.mpeg', 'WhatsApp Audio 2021-11-11 at 19.11.02.mpeg', 'WhatsApp Audio 2021-11-11 at 19.11.09.mpeg', 'WhatsApp Audio 2021-11-11 at 19.11.17.mpeg', 'WhatsApp Audio 2021-11-11 at 19.11.26.mpeg', 'WhatsApp Audio 2021-11-11 at 19.11.37.mpeg', 'WhatsApp Audio 2021-11-11 at 19.11.47.mpeg', 'WhatsApp Audio 2021-11-11 at 19.12.03.mpeg', 'WhatsApp Audio 2021-11-11 at 19.12.16.mpeg', 'WhatsApp Audio 2021-11-11 at 19.12.26.mpeg', 'WhatsApp Audio 2021-11-11 at 19.12.42.mpeg', 'WhatsApp Audio 2021-11-11 at 19.13.01.mp4', 'WhatsApp Audio 2021-11-11 at 19.13.22.mpeg', 'WhatsApp Audio 2021-11-11 at 19.13.34.mpeg', 'WhatsApp Audio 2021-11-11 at 19.14.24.mpeg', 'WhatsApp Audio 2021-11-11 at 19.14.32 (1).mpeg', 'WhatsApp Audio 2021-11-11 at 19.14.32.mpeg', 'WhatsApp Audio 2021-11-11 at 19.14.41.mpeg', 'WhatsApp Audio 2021-11-11 at 19.14.50.aac', 'WhatsApp Audio 2022-04-16 at 11.30.43.mpeg', 'WhatsApp Audio 2022-04-16 at 11.33.36.mpeg', 'WhatsApp Audio 2022-04-16 at 11.34.43.mpeg', 'WhatsApp Audio 2022-04-16 at 11.35.28.mpeg', 'WhatsApp Audio 2022-04-16 at 12.24.45.mpeg', 'WhatsApp Image 2020-11-07 at 22.33.52.jpeg', 'WhatsApp Image 2020-11-17 at 08.28.49.jpeg', 'WhatsApp Image 2021-03-15 at 10.11.37 (2) — ярлык.lnk', 'WhatsApp Image 2021-03-15 at 10.11.37.jpeg', 'WhatsApp Image 2021-04-05 at 11.03.15.jpeg', 'WhatsApp Image 2021-04-26 at 10.52.01.jpeg', 'WhatsApp Image 2022-04-11 at 18.16.15 (1).jpeg', 'WhatsApp Image 2022-04-11 at 18.16.15.jpeg', 'WhatsApp Image 2023-01-09 at 19.54.32.jpeg', 'WhatsApp Image 2023-12-22 at 19.20.15.jpeg', 'WhatsApp Image 2023-12-22 at 19.20.16.jpeg', 'WhatsApp Image 2023-12-22 at 19.20.17 (1).jpeg', 'WhatsApp Image 2023-12-22 at 19.20.17.jpeg', 'WhatsApp Image 2023-12-22 at 19.20.18.jpeg', 'WhatsApp Image 2023-12-22 at 19.20.19.jpeg', 'WhatsApp Image 2023-12-22 at 19.20.20 (1).jpeg', 'WhatsApp Image 2023-12-22 at 19.20.20 (2).jpeg', 'WhatsApp Image 2023-12-22 at 19.20.20.jpeg', 'WhatsApp Image 2023-12-22 at 19.20.22.jpeg', 'WhatsApp Image 2023-12-22 at 19.20.23 (1).jpeg', 'WhatsApp Image 2023-12-22 at 19.20.23 (2).jpeg', 'WhatsApp Image 2023-12-22 at 19.20.23.jpeg', 'WhatsApp Image 2023-12-22 at 19.20.24.jpeg', 'WhatsApp Image 2023-12-22 at 19.20.25 (1).jpeg', 'WhatsApp Image 2023-12-22 at 19.20.25 (2).jpeg', 'WhatsApp Image 2023-12-22 at 19.20.25.jpeg', 'WhatsApp Image 2023-12-22 at 19.20.26 (1).jpeg', 'WhatsApp Image 2023-12-22 at 19.20.26.jpeg', 'WhatsApp Image 2023-12-22 at 19.20.27 (1).jpeg', 'WhatsApp Image 2023-12-22 at 19.20.27.jpeg', 'WhatsApp Image 2023-12-23 at 12.13.07.jpeg', 'WhatsApp Image 2023-12-23 at 12.13.18.jpeg', 'WhatsApp Image 2023-12-23 at 12.13.37.jpeg', 'WhatsApp Image 2023-12-23 at 12.13.50.jpeg', 'WhatsApp Image 2023-12-23 at 12.14.06 (1).jpeg', 'WhatsApp Image 2023-12-23 at 12.14.06.jpeg', 'WhatsApp Image 2023-12-23 at 12.14.19.jpeg', 'WhatsApp Image 2023-12-23 at 12.15.24 (1).jpeg', 'WhatsApp Image 2023-12-23 at 12.15.24.jpeg', 'WhatsApp Image 2023-12-23 at 12.19.05.jpeg', 'WhatsApp Image 2024-08-23 at 02.38.26.jpeg', 'WhatsApp Unknown 2023-11-18 at 11.19.59.zip', 'WhatsApp Video 2022-03-26 at 00.36.38.mp4', 'WhatsApp Video 2024-10-01 at 02.01.38.mp4', 'WhatsApp Video 2024-10-01 at 04.38.29.mp4', 'williams_fin_18e_chap003_ppt.pdf', 'worksheets_future.docx', 'World War II History Analysis Thesis Defense by Slidesgo.pptx', 'y=x в кубе.html', 'Yandex.exe', 'zadanie A.py', 'Zip.txt', 'ZonaSetup64[6XQ69].exe', 'Zoom_cm_fo42pnktZ9vvrZo4_mr-UuNK9W1Wr-GgLCnySsBR-eiaU4t5HlFnhv@M+GT7lfLxT98ifaX_k4026f02ece4dd9ea_.exe', '~$б дарын кап.docx', '~$нис & Таңшолпан (жұмыс күнделігі) 2023 (2) (2).docx', '~$спар 2022-2023.docx', '~$СТЕ, ТӘУЕЛСІЗДІК БАЙҚАУЫ 7-СЫНЫПТАР, 2022 жыл.docx', '~WRL1410.tmp', '~WRL3647.tmp', 'Абай - математика Ногаева С.З..pptx', 'Адикоштан слива.pdf', 'Акра Әлбарыс.005.docx', 'Аннотация.docx', 'АПФ формат Жанна.pptx', 'Аргументация (1).pptx', 'Аргументация.pptx', 'Арнұр НТ 2.pdf', 'Асаналиден слив.docx', 'Аштық жайлаған дала.docx', 'Ақзере Аяжан баннер (1).pdf', 'Ақзере Аяжан баннер.pdf', 'Баннер (1).pptx', 'Баннер (2) (1) (1).pptx', 'Баннер (2) (1).pptx', 'Баннер (2).pptx', 'Баннер.pptx', 'БАҚ (1).docx', 'бекіністер (1).docx', 'бжб (1).pdf', 'БЖБ 8 В сынып (1).docx', 'БЖБ 8 В сынып.docx', 'БЖБ 8 с геом  2 тоқсан.docx', 'БЖБ №3 11 cынып 3 токсан.docx', 'бжб.pdf', 'бәрі білсін.pptx', 'ВПС Мат нт (1).pdf', 'Гайд для студента по Google диск.docx.docx', 'Дау-жанжал.pptx', 'Денис & Таңшолпан (жұмыс күнделігі) 2023 (2) (1).docx', 'Денис & Таңшолпан (жұмыс күнделігі) 2023 (2) (2) (1).docx', 'Денис & Таңшолпан (жұмыс күнделігі) 2023 (2) (2).docx', 'Денис & Таңшолпан (жұмыс күнделігі) 2023 (2) (3).docx', 'Денис & Таңшолпан (жұмыс күнделігі) 2023 (2) (4).docx', 'Денис & Таңшолпан (жұмыс күнделігі) 2023 (2).docx', 'Денис, Таңшолпан математика ғылыми жоба 2023 Абай РММИ (1).docx', 'Денис, Таңшолпан математика ғылыми жоба 2023 Абай РММИ.docx', 'денис11.pptx', 'Для учеников НФЦ.docx', 'Документ (3).docx', 'Документ.docx', 'Жармақ пікір.docx', 'ЖОБА2023.docx', 'Жоба2023.pptx', 'жоспар 2022-2023.docx', 'Жоғары мектеп педагогикасы тест тапсырмалары.docx', 'Златопольский_Д_М_1400_задач_по_программированию_2020 (1).pdf', 'Златопольский_Д_М_1400_задач_по_программированию_2020.pdf', 'Илхам Жолдасбаев - Жанымо.mp3', 'Инструкции ППС по финэкз LA for Engineers.pdf', 'Кенбай.pptx', 'КЕСТЕ, ТӘУЕЛСІЗДІК БАЙҚАУЫ 6-СЫНЫПТАР.docx', 'КЕСТЕ, ТӘУЕЛСІЗДІК БАЙҚАУЫ 7-СЫНЫПТАР, 2022 жыл.docx', 'косомс.jpeg', 'Люся Чеботина - Солнце Монако.mp3', 'Мат.сауат 1000есеп+шығарылуы.pdf', 'Математика_на_компьютере_Maple_8.pdf', 'Отсканированные документы (1).pdf', 'Отсканированные документы.pdf', 'Пікірсайыс технологиясы.pptx', 'Педагогика тарихы Оқулық. - Алматы 2013.  – 494  бет. (1).doc', 'Педагогика тарихы Оқулық. - Алматы 2013.  – 494  бет..doc', 'Презентация (1).pptx', 'Презентация (15).pptx', 'Презентация (24) (1).pptx', 'Презентация (24).pptx', 'Презентация (7) (1).pdf', 'Презентация (7).pdf', 'Презентация (7).pptx', 'Презентация-WPS Office.pptx', 'Презентация.pptx', 'ПРЕСС-РЕЛИЗ.docx', 'Пример_Данных_Для_PowerBI.xlsx', 'Расширенные_Данные_Для_PowerBI.xlsx', 'резулт.jpg', 'сабак онлафн.png', 'Сараптама трейнинг.ppt', 'сауалнама.jpg', 'Сборник-задач-и-упр.-по-мат.-анализу_Демидович_2005-560с (1).pdf', 'Сборник-задач-и-упр.-по-мат.-анализу_Демидович_2005-560с (2).pdf', 'Сборник-задач-и-упр.-по-мат.-анализу_Демидович_2005-560с.pdf', 'Силлабус  Проф компетентность педагога02.11.doc', 'Силлабус Python (1).docx', 'Силлабус Python.docx', 'Силлабус КБТУ Қазақстан тарихы (1).docx', 'Силлабус КБТУ Қазақстан тарихы.docx', 'Сливалар от Керей.pdf', 'СОР 3четв 8кл 1var Алихан Аскарович.docx', 'СОР 8 КЛАСС  Term ІІІ (1).docx', 'СОР 8 КЛАСС  Term ІІІ.docx', 'СОЧ 8 класс 3 четв (1).docx', 'талшын ғылыми жоба 2023ж күнделік.docx', 'Талшын.webp', 'тарих 4 9.docx', 'Тарих 50 нұсқа жауабымен.pdf', 'Тест на определение уровня (1).pdf', 'Тест на определение уровня.pdf', 'ТЖБ 4 тоқсан 8 В (1).docx', 'ТЖБ 4 тоқсан 8 В.docx', 'ТЖБ 4 тоқсан қазақ тілі.doc', 'ТЖБ 8 сынып 4 тоқсан.docx', 'ТЖБ әдебиет 8 сынып.docx', 'ТЖБ әдебиет 8-сынып 4-тоқсан (1).docx', 'ТЖБ әдебиет 8-сынып 4-тоқсан.docx', 'ТЖБ-2 8 В сынып.docx', 'Тригонометриялық теңдеулер жүи.pdf', 'Тригонометриялық функциялардың.pdf', 'тэб дарын кап.docx', 'Тәуелсіздік жарысы, байқау Ахмет ата 1.docx', 'умк-Ped-A.docx', 'Формы РКНП 2023-2024 уч.год (1) (1).xlsx', 'Формы РКНП 2023-2024 уч.год (1) (2).xlsx', 'Формы РКНП 2023-2024 уч.год (1) (3) (1).xlsx', 'Формы РКНП 2023-2024 уч.год (1) (3) (2).xlsx', 'Формы РКНП 2023-2024 уч.год (1) (3).xlsx', 'Формы РКНП 2023-2024 уч.год (1).xlsx', 'хакер фон.jpg', 'Чек-лист (желі).pdf', 'эссе алтын (1).docx', 'эссе алтын.docx', 'Январьский ент сертификат.pdf', 'Қаз Тарих Кбту.docx', 'Қазақ хандары.ppt', 'Қазақ хандарының сыртқы саясаты.doc', 'Қазақ_хандығының_қоғамдық_құрылымы_және_шаруашылығы.ppt', 'қолданылған әдістер [Автосохраненный].pptx', 'қолданылған әдістер.pptx', 'Қызыл кітап. Математика.pdf']\n"
     ]
    }
   ],
   "source": [
    "#1\n",
    "import os\n",
    "\n",
    "def list_contents(path):\n",
    "    return next(os.walk(path))[1:]\n",
    "\n",
    "\n",
    "path = input()\n",
    "dirs,files = list_contents(path)\n",
    "\n",
    "print(\"Directories:\", dirs)\n",
    "print(\"Files:\", files)"
   ]
  },
  {
   "cell_type": "code",
   "execution_count": 125,
   "id": "41f558e2-f469-4125-949e-7b50f8f9b62f",
   "metadata": {},
   "outputs": [
    {
     "name": "stdin",
     "output_type": "stream",
     "text": [
      "Enter the path to check:  C:\\Users\\denis\\Downloads\\lec1_Sets.pdf\n"
     ]
    },
    {
     "name": "stdout",
     "output_type": "stream",
     "text": [
      "Path exists.\n",
      "Type: File\n",
      "Readable: Yes\n",
      "Writable: Yes\n",
      "Executable: Yes\n"
     ]
    }
   ],
   "source": [
    "import os\n",
    "\n",
    "def check_path_access(path):\n",
    "    if os.path.exists(path):\n",
    "        print(\"Path exists.\")\n",
    "        print(\"Type:\", \"File\" if os.path.isfile(path) else \"Directory\")\n",
    "        print(\"Readable:\", \"Yes\" if os.access(path, os.R_OK) else \"No\")\n",
    "        print(\"Writable:\", \"Yes\" if os.access(path, os.W_OK) else \"No\")\n",
    "        print(\"Executable:\", \"Yes\" if os.access(path, os.X_OK) else \"No\")\n",
    "    else:\n",
    "        print(\"Path does not exist.\")\n",
    "\n",
    "path = input(\"Enter the path to check: \")\n",
    "check_path_access(path)\n"
   ]
  },
  {
   "cell_type": "code",
   "execution_count": 33,
   "id": "121c870b-1e84-456c-8bf7-614ec64b53b1",
   "metadata": {},
   "outputs": [
    {
     "name": "stdin",
     "output_type": "stream",
     "text": [
      "Enter the path:  C:\\Users\\denis\\Downloads\\lec1_Sets.pdf\n"
     ]
    },
    {
     "name": "stdout",
     "output_type": "stream",
     "text": [
      "Path exists.\n",
      "Directory: C:\\Users\\denis\\Downloads\n",
      "Filename: lec1_Sets.pdf\n"
     ]
    }
   ],
   "source": [
    "import os\n",
    "\n",
    "def check_path(path):\n",
    "    if os.path.exists(path):\n",
    "        print(\"Path exists.\")\n",
    "        print(\"Directory:\", os.path.dirname(path))\n",
    "        print(\"Filename:\", os.path.basename(path))\n",
    "    else:\n",
    "        print(\"Path does not exist.\")\n",
    "\n",
    "path = input(\"Enter the path: \")\n",
    "check_path(path)\n"
   ]
  },
  {
   "cell_type": "code",
   "execution_count": 137,
   "id": "8646fc4a-4fc8-4528-87df-d2c4b5e475ad",
   "metadata": {},
   "outputs": [
    {
     "name": "stdout",
     "output_type": "stream",
     "text": [
      "Number of lines: 2\n"
     ]
    }
   ],
   "source": [
    "def count_lines(file_path):\n",
    "    with open(file_path,'r') as file:\n",
    "        return sum(1 for line in file)\n",
    "print(\"Number of lines:\", count_lines(r'C:\\Users\\denis\\Downloads\\Pyt.txt'))\n"
   ]
  },
  {
   "cell_type": "code",
   "execution_count": 157,
   "id": "bfcc8a80-1f64-425e-902e-7e971c066041",
   "metadata": {},
   "outputs": [],
   "source": [
    "def write_list_to_file(file_path, data_list):\n",
    "    with open(file_path, mode='w') as file:\n",
    "        for item in data_list:\n",
    "            file.write(f\"{item}\\n\")\n",
    "\n",
    "write_list_to_file(r'C:\\Users\\denis\\Downloads\\Pyt.txt', [\"Apple\", \"Banana\"])\n"
   ]
  },
  {
   "cell_type": "code",
   "execution_count": 161,
   "id": "3de1c8d4-56ae-4cc9-a4d4-1d39daa83bfd",
   "metadata": {},
   "outputs": [],
   "source": [
    "import string\n",
    "\n",
    "def generate_text_files():\n",
    "    for letter in string.ascii_uppercase:\n",
    "        file_name = f\"{letter}.txt\"\n",
    "        with open(file_name, 'w') as file:\n",
    "            pass\n",
    "\n",
    "generate_text_files()\n"
   ]
  },
  {
   "cell_type": "code",
   "execution_count": 167,
   "id": "a86b4565-be2b-4756-94ca-33b3aab07015",
   "metadata": {},
   "outputs": [],
   "source": [
    "import shutil\n",
    "\n",
    "def copy(source,dest):\n",
    "    shutil.copy(source,dest)\n",
    "\n",
    "copy(r'C:\\Users\\denis\\Downloads\\Pyt.txt',r'C:\\Рабочий стол\\presentation')"
   ]
  },
  {
   "cell_type": "code",
   "execution_count": 65,
   "id": "b3f7283a-9a2f-4f76-a522-8313231d5a94",
   "metadata": {},
   "outputs": [
    {
     "name": "stdout",
     "output_type": "stream",
     "text": [
      "no access\n"
     ]
    }
   ],
   "source": [
    "import os\n",
    "\n",
    "def delete_file(file_path):\n",
    "    if os.path.exists(file_path) and os.access(file_path, os.W_OK):\n",
    "        os.remove(file_path)\n",
    "    else:\n",
    "        print(\"no access\")\n",
    "\n",
    "delete_file(\"lec1_Sets.pdf\")"
   ]
  }
 ],
 "metadata": {
  "kernelspec": {
   "display_name": "Python [conda env:base] *",
   "language": "python",
   "name": "conda-base-py"
  },
  "language_info": {
   "codemirror_mode": {
    "name": "ipython",
    "version": 3
   },
   "file_extension": ".py",
   "mimetype": "text/x-python",
   "name": "python",
   "nbconvert_exporter": "python",
   "pygments_lexer": "ipython3",
   "version": "3.12.7"
  }
 },
 "nbformat": 4,
 "nbformat_minor": 5
}
